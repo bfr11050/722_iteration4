{
 "cells": [
  {
   "cell_type": "code",
   "execution_count": 2,
   "id": "913b5529",
   "metadata": {},
   "outputs": [],
   "source": [
    "import findspark\n",
    "findspark.init('/home/ubuntu/spark-3.2.1-bin-hadoop2.7')\n",
    "import pyspark\n",
    "from pyspark.sql import SparkSession\n",
    "spark = SparkSession.builder.appName('bfry100_it4_app').getOrCreate()"
   ]
  },
  {
   "cell_type": "code",
   "execution_count": 4,
   "id": "caa4ccb3",
   "metadata": {
    "scrolled": true
   },
   "outputs": [
    {
     "name": "stdout",
     "output_type": "stream",
     "text": [
      "root\n",
      " |-- Sex: string (nullable = true)\n",
      " |-- General_health: string (nullable = true)\n",
      " |-- Physical_health_30bad: string (nullable = true)\n",
      " |-- Mental_health_30bad: string (nullable = true)\n",
      " |-- Medical_cost: string (nullable = true)\n",
      " |-- Sleep_hours: string (nullable = true)\n",
      " |-- Stroke: string (nullable = true)\n",
      " |-- Asthma: string (nullable = true)\n",
      " |-- Skin_cancer: string (nullable = true)\n",
      " |-- Other_cancer: string (nullable = true)\n",
      " |-- Education: string (nullable = true)\n",
      " |-- Diff_con: string (nullable = true)\n",
      " |-- Diff_walk: string (nullable = true)\n",
      " |-- Smoked100: string (nullable = true)\n",
      " |-- Good_health: string (nullable = true)\n",
      " |-- Physical_act: string (nullable = true)\n",
      " |-- Heart_disease: string (nullable = true)\n",
      " |-- Age_group: string (nullable = true)\n",
      " |-- BMI: string (nullable = true)\n",
      " |-- Income_group: string (nullable = true)\n",
      " |-- Smoking_status: string (nullable = true)\n",
      " |-- Heavy_drink: string (nullable = true)\n",
      "\n"
     ]
    }
   ],
   "source": [
    "df = spark.read.option(\"header\",True).csv('Data/HeartData2020.csv')\n",
    "df.printSchema()"
   ]
  },
  {
   "cell_type": "code",
   "execution_count": 5,
   "id": "c087c32a",
   "metadata": {},
   "outputs": [
    {
     "name": "stdout",
     "output_type": "stream",
     "text": [
      "root\n",
      " |-- Sex: string (nullable = true)\n",
      " |-- General_health: string (nullable = true)\n",
      " |-- Physical_health_30bad: integer (nullable = true)\n",
      " |-- Mental_health_30bad: integer (nullable = true)\n",
      " |-- Medical_cost: string (nullable = true)\n",
      " |-- Sleep_hours: integer (nullable = true)\n",
      " |-- Stroke: string (nullable = true)\n",
      " |-- Asthma: string (nullable = true)\n",
      " |-- Skin_cancer: string (nullable = true)\n",
      " |-- Other_cancer: string (nullable = true)\n",
      " |-- Education: string (nullable = true)\n",
      " |-- Diff_con: string (nullable = true)\n",
      " |-- Diff_walk: string (nullable = true)\n",
      " |-- Smoked100: string (nullable = true)\n",
      " |-- Good_health: string (nullable = true)\n",
      " |-- Physical_act: string (nullable = true)\n",
      " |-- Heart_disease: string (nullable = true)\n",
      " |-- Age_group: string (nullable = true)\n",
      " |-- BMI: double (nullable = true)\n",
      " |-- Income_group: string (nullable = true)\n",
      " |-- Smoking_status: string (nullable = true)\n",
      " |-- Heavy_drink: string (nullable = true)\n",
      "\n"
     ]
    }
   ],
   "source": [
    "from pyspark.sql.functions import col\n",
    "from pyspark.sql.types import IntegerType,DoubleType\n",
    "df2 = df.withColumn(\"Physical_health_30bad\",col(\"Physical_health_30bad\").cast(IntegerType())) \\\n",
    "    .withColumn(\"Mental_health_30bad\",col(\"Mental_health_30bad\").cast(IntegerType())) \\\n",
    "    .withColumn(\"Sleep_hours\",col(\"Sleep_hours\").cast(IntegerType())) \\\n",
    "    .withColumn(\"BMI\",col(\"BMI\").cast(DoubleType()))\n",
    "df2.printSchema()"
   ]
  },
  {
   "cell_type": "code",
   "execution_count": 6,
   "id": "aea40805",
   "metadata": {},
   "outputs": [
    {
     "name": "stderr",
     "output_type": "stream",
     "text": [
      "                                                                                \r"
     ]
    },
    {
     "data": {
      "text/plain": [
       "273197"
      ]
     },
     "execution_count": 6,
     "metadata": {},
     "output_type": "execute_result"
    }
   ],
   "source": [
    "df2.na.drop().count()\n",
    "df2.count()"
   ]
  },
  {
   "cell_type": "code",
   "execution_count": 7,
   "id": "23be1cf9",
   "metadata": {},
   "outputs": [
    {
     "name": "stderr",
     "output_type": "stream",
     "text": [
      "                                                                                \r"
     ]
    },
    {
     "name": "stdout",
     "output_type": "stream",
     "text": [
      "+---------------------+-------------------+-----------+-----+------------------+--------+-------------------+-----------------+-----------+-----------+----------------+-----------------+--------------+-------------+--------------+--------------+----------------+-----------------+--------------+-----------------+-------------------+----------------+\n",
      "|Physical_health_30bad|Mental_health_30bad|Sleep_hours|  BMI|Heart_diseaseIndex|SexIndex|General_healthIndex|Medical_costIndex|StrokeIndex|AsthmaIndex|Skin_cancerIndex|Other_cancerIndex|EducationIndex|Diff_conIndex|Diff_walkIndex|Smoked100Index|Good_healthIndex|Physical_actIndex|Age_groupIndex|Income_groupIndex|Smoking_statusIndex|Heavy_drinkIndex|\n",
      "+---------------------+-------------------+-----------+-----+------------------+--------+-------------------+-----------------+-----------+-----------+----------------+-----------------+--------------+-------------+--------------+--------------+----------------+-----------------+--------------+-----------------+-------------------+----------------+\n",
      "|                    3|                 30|          5| 16.6|               0.0|     0.0|                0.0|              1.0|        0.0|        1.0|             1.0|              1.0|           0.0|          1.0|           0.0|           1.0|             0.0|              0.0|           2.0|              4.0|                2.0|             0.0|\n",
      "|                   20|                 30|          8|26.58|               0.0|     1.0|                3.0|              0.0|        0.0|        1.0|             0.0|              0.0|           2.0|          0.0|           0.0|           1.0|             1.0|              0.0|           1.0|              3.0|                1.0|             0.0|\n",
      "|                    0|                  0|          6|24.21|               0.0|     0.0|                1.0|              0.0|        0.0|        0.0|             1.0|              1.0|           2.0|          1.0|           0.0|           0.0|             0.0|              1.0|           9.0|              2.0|                0.0|             0.0|\n",
      "|                   28|                  0|          8|23.71|               0.0|     0.0|                0.0|              0.0|        0.0|        0.0|             0.0|              0.0|           0.0|          0.0|           1.0|           0.0|             0.0|              0.0|           6.0|              2.0|                0.0|             0.0|\n",
      "|                   15|                  0|          4|21.63|               0.0|     0.0|                3.0|              0.0|        0.0|        1.0|             1.0|              0.0|           0.0|          0.0|           0.0|           0.0|             1.0|              0.0|           3.0|              0.0|                0.0|             0.0|\n",
      "|                    5|                  0|          9|31.64|               0.0|     0.0|                1.0|              0.0|        0.0|        1.0|             0.0|              0.0|           1.0|          0.0|           1.0|           1.0|             0.0|              1.0|           8.0|              1.0|                1.0|             0.0|\n",
      "|                    0|                  0|          5|26.45|               0.0|     0.0|                3.0|              0.0|        0.0|        0.0|             0.0|              0.0|           4.0|          0.0|           0.0|           0.0|             1.0|              1.0|           8.0|              1.0|                0.0|             0.0|\n",
      "|                    0|                  0|         10|40.69|               0.0|     1.0|                1.0|              0.0|        0.0|        0.0|             0.0|              1.0|           2.0|          1.0|           1.0|           0.0|             0.0|              0.0|           1.0|              4.0|                0.0|             0.0|\n",
      "|                    0|                  0|          5|28.71|               0.0|     0.0|                0.0|              0.0|        0.0|        0.0|             0.0|              1.0|           2.0|          0.0|           0.0|           1.0|             0.0|              0.0|           2.0|              3.0|                1.0|             0.0|\n",
      "|                    0|                  0|          8|28.37|               0.0|     1.0|                0.0|              0.0|        0.0|        0.0|             0.0|              1.0|           0.0|          0.0|           1.0|           1.0|             0.0|              0.0|           9.0|              0.0|                1.0|             0.0|\n",
      "|                    7|                  0|          7|28.15|               0.0|     0.0|                1.0|              0.0|        0.0|        0.0|             0.0|              0.0|           0.0|          0.0|           1.0|           0.0|             0.0|              1.0|           8.0|              0.0|                0.0|             0.0|\n",
      "|                    0|                 30|          5|29.29|               0.0|     0.0|                1.0|              0.0|        0.0|        0.0|             0.0|              1.0|           2.0|          1.0|           1.0|           1.0|             0.0|              1.0|           0.0|              0.0|                2.0|             0.0|\n",
      "|                    1|                  0|          6|29.18|               0.0|     0.0|                0.0|              0.0|        0.0|        0.0|             0.0|              0.0|           0.0|          0.0|           0.0|           0.0|             0.0|              0.0|           4.0|              0.0|                0.0|             0.0|\n",
      "|                    5|                  2|         10|26.26|               0.0|     0.0|                0.0|              0.0|        0.0|        0.0|             0.0|              0.0|           1.0|          0.0|           0.0|           0.0|             0.0|              1.0|           3.0|              2.0|                0.0|             0.0|\n",
      "|                    0|                 30|          8|22.59|               0.0|     1.0|                1.0|              0.0|        0.0|        0.0|             0.0|              0.0|           3.0|          0.0|           1.0|           1.0|             0.0|              0.0|           3.0|              3.0|                2.0|             0.0|\n",
      "|                    0|                  0|          5|29.86|               0.0|     0.0|                3.0|              0.0|        0.0|        0.0|             0.0|              0.0|           2.0|          0.0|           1.0|           1.0|             1.0|              1.0|           9.0|              4.0|                1.0|             0.0|\n",
      "|                    0|                  0|          8|18.13|               0.0|     1.0|                2.0|              0.0|        0.0|        0.0|             1.0|              0.0|           0.0|          0.0|           0.0|           0.0|             0.0|              0.0|           8.0|              0.0|                0.0|             0.0|\n",
      "|                    2|                  5|          7| 28.9|               0.0|     0.0|                0.0|              0.0|        0.0|        0.0|             0.0|              0.0|           1.0|          0.0|           0.0|           0.0|             0.0|              1.0|           3.0|              3.0|                0.0|             0.0|\n",
      "|                    0|                 15|          6|26.17|               0.0|     0.0|                0.0|              0.0|        0.0|        0.0|             0.0|              0.0|           2.0|          0.0|           0.0|           1.0|             0.0|              0.0|           5.0|              0.0|                1.0|             0.0|\n",
      "|                    0|                 30|          8|25.82|               0.0|     1.0|                3.0|              0.0|        0.0|        0.0|             0.0|              0.0|           2.0|          0.0|           0.0|           1.0|             1.0|              0.0|           8.0|              0.0|                1.0|             0.0|\n",
      "+---------------------+-------------------+-----------+-----+------------------+--------+-------------------+-----------------+-----------+-----------+----------------+-----------------+--------------+-------------+--------------+--------------+----------------+-----------------+--------------+-----------------+-------------------+----------------+\n",
      "only showing top 20 rows\n",
      "\n"
     ]
    }
   ],
   "source": [
    "from pyspark.ml.classification import DecisionTreeClassifier\n",
    "from pyspark.ml.feature import StringIndexer, VectorIndexer\n",
    "from pyspark.ml.evaluation import MulticlassClassificationEvaluator\n",
    "from pyspark.mllib.util import MLUtils\n",
    "from pyspark.ml.linalg import Vectors\n",
    "from pyspark.ml.feature import VectorAssembler\n",
    "from pyspark.ml.feature import VectorIndexer\n",
    "from pyspark.mllib.util import MLUtils\n",
    "\n",
    "cat_features = [\"Heart_disease\", \"Sex\", \"General_health\", \"Medical_cost\", \"Stroke\", \"Asthma\",\"Skin_cancer\", \"Other_cancer\", \"Education\", \"Diff_con\", \"Diff_walk\", \"Smoked100\", \"Good_health\", \"Physical_act\",\"Age_group\", \"Income_group\", \"Smoking_status\",\"Heavy_drink\"]\n",
    "\n",
    "for i in cat_features:\n",
    "    indexer = StringIndexer(inputCol=i, outputCol= i+\"Index\")\n",
    "    df2 = indexer.fit(df2).transform(df2)\n",
    "    df2 = df2.drop(i)"
   ]
  },
  {
   "cell_type": "code",
   "execution_count": 8,
   "id": "033f32fa",
   "metadata": {},
   "outputs": [
    {
     "name": "stdout",
     "output_type": "stream",
     "text": [
      "root\n",
      " |-- Physical_health_30bad: integer (nullable = true)\n",
      " |-- Mental_health_30bad: integer (nullable = true)\n",
      " |-- Sleep_hours: integer (nullable = true)\n",
      " |-- BMI: double (nullable = true)\n",
      " |-- Heart_diseaseIndex: double (nullable = false)\n",
      " |-- SexIndex: double (nullable = false)\n",
      " |-- General_healthIndex: double (nullable = false)\n",
      " |-- Medical_costIndex: double (nullable = false)\n",
      " |-- StrokeIndex: double (nullable = false)\n",
      " |-- AsthmaIndex: double (nullable = false)\n",
      " |-- Skin_cancerIndex: double (nullable = false)\n",
      " |-- Other_cancerIndex: double (nullable = false)\n",
      " |-- EducationIndex: double (nullable = false)\n",
      " |-- Diff_conIndex: double (nullable = false)\n",
      " |-- Diff_walkIndex: double (nullable = false)\n",
      " |-- Smoked100Index: double (nullable = false)\n",
      " |-- Good_healthIndex: double (nullable = false)\n",
      " |-- Physical_actIndex: double (nullable = false)\n",
      " |-- Age_groupIndex: double (nullable = false)\n",
      " |-- Income_groupIndex: double (nullable = false)\n",
      " |-- Smoking_statusIndex: double (nullable = false)\n",
      " |-- Heavy_drinkIndex: double (nullable = false)\n",
      "\n"
     ]
    }
   ],
   "source": [
    "df2.printSchema()"
   ]
  },
  {
   "cell_type": "code",
   "execution_count": 9,
   "id": "53a6ad37",
   "metadata": {},
   "outputs": [],
   "source": [
    "preds = [\"Sex\", \"General_health\", \"Medical_cost\", \"Stroke\", \"Asthma\",\"Skin_cancer\", \"Other_cancer\", \"Education\", \"Diff_con\", \"Diff_walk\", \"Smoked100\", \"Good_health\", \"Physical_act\",\"Age_group\", \"Income_group\", \"Smoking_status\",\"Heavy_drink\"]\n",
    "numeric = [\"Physical_health_30bad\", \"Mental_health_30bad\", \"Sleep_hours\", \"BMI\"]\n",
    "features = []\n",
    "for i in preds:\n",
    "    features.append(i+\"Index\")\n",
    "for j in numeric:\n",
    "    features.append(j)"
   ]
  },
  {
   "cell_type": "code",
   "execution_count": 10,
   "id": "2b4f210e",
   "metadata": {},
   "outputs": [],
   "source": [
    "va = VectorAssembler(inputCols = features, outputCol='features')\n",
    "va_df = va.transform(df2)\n",
    "va_df = va_df.select(['features', 'Heart_diseaseIndex'])"
   ]
  },
  {
   "cell_type": "code",
   "execution_count": 11,
   "id": "5472cb4c",
   "metadata": {},
   "outputs": [
    {
     "name": "stderr",
     "output_type": "stream",
     "text": [
      "22/10/13 16:52:55 WARN package: Truncated the string representation of a plan since it was too large. This behavior can be adjusted by setting 'spark.sql.debug.maxToStringFields'.\n"
     ]
    },
    {
     "name": "stdout",
     "output_type": "stream",
     "text": [
      "+--------------------+------------------+\n",
      "|            features|Heart_diseaseIndex|\n",
      "+--------------------+------------------+\n",
      "|[0.0,0.0,1.0,0.0,...|               0.0|\n",
      "|[1.0,3.0,0.0,0.0,...|               0.0|\n",
      "|(21,[1,5,6,7,8,12...|               0.0|\n",
      "|(21,[9,13,14,17,1...|               0.0|\n",
      "|(21,[1,4,5,11,13,...|               0.0|\n",
      "+--------------------+------------------+\n",
      "only showing top 5 rows\n",
      "\n"
     ]
    }
   ],
   "source": [
    "va_df.show(5)"
   ]
  },
  {
   "cell_type": "code",
   "execution_count": 12,
   "id": "deaef445",
   "metadata": {},
   "outputs": [],
   "source": [
    "(train, test) = va_df.randomSplit([0.8, 0.2])"
   ]
  },
  {
   "cell_type": "code",
   "execution_count": 13,
   "id": "57d4d2b6",
   "metadata": {},
   "outputs": [
    {
     "name": "stderr",
     "output_type": "stream",
     "text": [
      "[Stage 78:=============================>                            (1 + 1) / 2]\r"
     ]
    },
    {
     "name": "stdout",
     "output_type": "stream",
     "text": [
      "Prediction Accuracy:  0.8858619314830194\n"
     ]
    },
    {
     "name": "stderr",
     "output_type": "stream",
     "text": [
      "\r",
      "                                                                                \r"
     ]
    }
   ],
   "source": [
    "dtc = DecisionTreeClassifier(featuresCol=\"features\", labelCol=\"Heart_diseaseIndex\")\n",
    "dtc = dtc.fit(train)\n",
    "\n",
    "pred = dtc.transform(test)\n",
    "\n",
    "evaluator=MulticlassClassificationEvaluator(labelCol=\"Heart_diseaseIndex\",predictionCol=\"prediction\")\n",
    "acc = evaluator.evaluate(pred)\n",
    " \n",
    "print(\"Prediction Accuracy: \", acc)"
   ]
  },
  {
   "cell_type": "code",
   "execution_count": 14,
   "id": "293c573c",
   "metadata": {},
   "outputs": [],
   "source": [
    "feature_importance = dtc.featureImportances"
   ]
  },
  {
   "cell_type": "code",
   "execution_count": 15,
   "id": "bcfbaee5",
   "metadata": {},
   "outputs": [
    {
     "name": "stderr",
     "output_type": "stream",
     "text": [
      "[Stage 94:=============================>                            (1 + 1) / 2]\r"
     ]
    },
    {
     "name": "stdout",
     "output_type": "stream",
     "text": [
      "Prediction Accuracy:  0.8854824453409562\n"
     ]
    },
    {
     "name": "stderr",
     "output_type": "stream",
     "text": [
      "\r",
      "                                                                                \r"
     ]
    }
   ],
   "source": [
    "df3 = df2.select([c for c in df2.columns if c in ['Heart_diseaseIndex','SexIndex','General_healthIndex','StrokeIndex', 'Diff_walkIndex', 'Good_healthIndex', 'Age_groupIndex', 'Sleep_hours', 'BMI']])\n",
    "features = ['SexIndex','General_healthIndex','StrokeIndex', 'Diff_walkIndex', 'Good_healthIndex', 'Age_groupIndex', 'Sleep_hours', 'BMI']\n",
    "va = VectorAssembler(inputCols = features, outputCol='features')\n",
    "va_df = va.transform(df3)\n",
    "va_df = va_df.select(['features', 'Heart_diseaseIndex'])\n",
    "(train, test) = va_df.randomSplit([0.8, 0.2])\n",
    "dtc = DecisionTreeClassifier(featuresCol=\"features\", labelCol=\"Heart_diseaseIndex\")\n",
    "dtc = dtc.fit(train)\n",
    "\n",
    "pred = dtc.transform(test)\n",
    "evaluator=MulticlassClassificationEvaluator(labelCol=\"Heart_diseaseIndex\",predictionCol=\"prediction\")\n",
    "acc = evaluator.evaluate(pred)\n",
    " \n",
    "print(\"Prediction Accuracy: \", acc)"
   ]
  },
  {
   "cell_type": "code",
   "execution_count": null,
   "id": "5cfba9b8",
   "metadata": {},
   "outputs": [],
   "source": []
  }
 ],
 "metadata": {
  "kernelspec": {
   "display_name": "Python 3 (ipykernel)",
   "language": "python",
   "name": "python3"
  },
  "language_info": {
   "codemirror_mode": {
    "name": "ipython",
    "version": 3
   },
   "file_extension": ".py",
   "mimetype": "text/x-python",
   "name": "python",
   "nbconvert_exporter": "python",
   "pygments_lexer": "ipython3",
   "version": "3.10.4"
  }
 },
 "nbformat": 4,
 "nbformat_minor": 5
}
