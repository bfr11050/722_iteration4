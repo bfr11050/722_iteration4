{
 "cells": [
  {
   "cell_type": "code",
   "execution_count": 1,
   "id": "913b5529",
   "metadata": {},
   "outputs": [
    {
     "name": "stderr",
     "output_type": "stream",
     "text": [
      "WARNING: An illegal reflective access operation has occurred\n",
      "WARNING: Illegal reflective access by org.apache.spark.unsafe.Platform (file:/home/ubuntu/spark-3.2.1-bin-hadoop2.7/jars/spark-unsafe_2.12-3.2.1.jar) to constructor java.nio.DirectByteBuffer(long,int)\n",
      "WARNING: Please consider reporting this to the maintainers of org.apache.spark.unsafe.Platform\n",
      "WARNING: Use --illegal-access=warn to enable warnings of further illegal reflective access operations\n",
      "WARNING: All illegal access operations will be denied in a future release\n",
      "Using Spark's default log4j profile: org/apache/spark/log4j-defaults.properties\n",
      "Setting default log level to \"WARN\".\n",
      "To adjust logging level use sc.setLogLevel(newLevel). For SparkR, use setLogLevel(newLevel).\n",
      "22/10/13 18:09:10 WARN NativeCodeLoader: Unable to load native-hadoop library for your platform... using builtin-java classes where applicable\n"
     ]
    }
   ],
   "source": [
    "import findspark\n",
    "findspark.init('/home/ubuntu/spark-3.2.1-bin-hadoop2.7')\n",
    "import pyspark\n",
    "from pyspark.sql import SparkSession\n",
    "spark = SparkSession.builder.appName('bfry100_it4_app').getOrCreate()"
   ]
  },
  {
   "cell_type": "code",
   "execution_count": 2,
   "id": "caa4ccb3",
   "metadata": {
    "scrolled": true
   },
   "outputs": [
    {
     "name": "stdout",
     "output_type": "stream",
     "text": [
      "root\n",
      " |-- Sex: string (nullable = true)\n",
      " |-- General_health: string (nullable = true)\n",
      " |-- Physical_health_30bad: string (nullable = true)\n",
      " |-- Mental_health_30bad: string (nullable = true)\n",
      " |-- Medical_cost: string (nullable = true)\n",
      " |-- Sleep_hours: string (nullable = true)\n",
      " |-- Stroke: string (nullable = true)\n",
      " |-- Asthma: string (nullable = true)\n",
      " |-- Skin_cancer: string (nullable = true)\n",
      " |-- Other_cancer: string (nullable = true)\n",
      " |-- Education: string (nullable = true)\n",
      " |-- Diff_con: string (nullable = true)\n",
      " |-- Diff_walk: string (nullable = true)\n",
      " |-- Smoked100: string (nullable = true)\n",
      " |-- Good_health: string (nullable = true)\n",
      " |-- Physical_act: string (nullable = true)\n",
      " |-- Heart_disease: string (nullable = true)\n",
      " |-- Age_group: string (nullable = true)\n",
      " |-- BMI: string (nullable = true)\n",
      " |-- Income_group: string (nullable = true)\n",
      " |-- Smoking_status: string (nullable = true)\n",
      " |-- Heavy_drink: string (nullable = true)\n",
      "\n"
     ]
    }
   ],
   "source": [
    "df = spark.read.option(\"header\",True).csv('Data/HeartData2020.csv')\n",
    "df.printSchema()"
   ]
  },
  {
   "cell_type": "code",
   "execution_count": 3,
   "id": "c087c32a",
   "metadata": {},
   "outputs": [
    {
     "name": "stdout",
     "output_type": "stream",
     "text": [
      "root\n",
      " |-- Sex: string (nullable = true)\n",
      " |-- General_health: string (nullable = true)\n",
      " |-- Physical_health_30bad: integer (nullable = true)\n",
      " |-- Mental_health_30bad: integer (nullable = true)\n",
      " |-- Medical_cost: string (nullable = true)\n",
      " |-- Sleep_hours: integer (nullable = true)\n",
      " |-- Stroke: string (nullable = true)\n",
      " |-- Asthma: string (nullable = true)\n",
      " |-- Skin_cancer: string (nullable = true)\n",
      " |-- Other_cancer: string (nullable = true)\n",
      " |-- Education: string (nullable = true)\n",
      " |-- Diff_con: string (nullable = true)\n",
      " |-- Diff_walk: string (nullable = true)\n",
      " |-- Smoked100: string (nullable = true)\n",
      " |-- Good_health: string (nullable = true)\n",
      " |-- Physical_act: string (nullable = true)\n",
      " |-- Heart_disease: string (nullable = true)\n",
      " |-- Age_group: string (nullable = true)\n",
      " |-- BMI: double (nullable = true)\n",
      " |-- Income_group: string (nullable = true)\n",
      " |-- Smoking_status: string (nullable = true)\n",
      " |-- Heavy_drink: string (nullable = true)\n",
      "\n"
     ]
    }
   ],
   "source": [
    "from pyspark.sql.functions import col\n",
    "from pyspark.sql.types import IntegerType,DoubleType\n",
    "df2 = df.withColumn(\"Physical_health_30bad\",col(\"Physical_health_30bad\").cast(IntegerType())) \\\n",
    "    .withColumn(\"Mental_health_30bad\",col(\"Mental_health_30bad\").cast(IntegerType())) \\\n",
    "    .withColumn(\"Sleep_hours\",col(\"Sleep_hours\").cast(IntegerType())) \\\n",
    "    .withColumn(\"BMI\",col(\"BMI\").cast(DoubleType()))\n",
    "df2.printSchema()"
   ]
  },
  {
   "cell_type": "code",
   "execution_count": 4,
   "id": "aea40805",
   "metadata": {},
   "outputs": [
    {
     "name": "stderr",
     "output_type": "stream",
     "text": [
      "                                                                                \r"
     ]
    },
    {
     "data": {
      "text/plain": [
       "273197"
      ]
     },
     "execution_count": 4,
     "metadata": {},
     "output_type": "execute_result"
    }
   ],
   "source": [
    "df2.na.drop().count()\n",
    "df2.count()"
   ]
  },
  {
   "cell_type": "code",
   "execution_count": 5,
   "id": "23be1cf9",
   "metadata": {},
   "outputs": [
    {
     "name": "stderr",
     "output_type": "stream",
     "text": [
      "                                                                                \r"
     ]
    }
   ],
   "source": [
    "from pyspark.ml.classification import DecisionTreeClassifier\n",
    "from pyspark.ml.feature import StringIndexer, VectorIndexer\n",
    "from pyspark.ml.evaluation import MulticlassClassificationEvaluator\n",
    "from pyspark.mllib.util import MLUtils\n",
    "from pyspark.ml.linalg import Vectors\n",
    "from pyspark.ml.feature import VectorAssembler\n",
    "from pyspark.ml.feature import VectorIndexer\n",
    "from pyspark.mllib.util import MLUtils\n",
    "\n",
    "cat_features = [\"Heart_disease\", \"Sex\", \"General_health\", \"Medical_cost\", \"Stroke\", \"Asthma\",\"Skin_cancer\", \"Other_cancer\", \"Education\", \"Diff_con\", \"Diff_walk\", \"Smoked100\", \"Good_health\", \"Physical_act\",\"Age_group\", \"Income_group\", \"Smoking_status\",\"Heavy_drink\"]\n",
    "\n",
    "for i in cat_features:\n",
    "    indexer = StringIndexer(inputCol=i, outputCol= i+\"Index\")\n",
    "    df2 = indexer.fit(df2).transform(df2)\n",
    "    df2 = df2.drop(i)"
   ]
  },
  {
   "cell_type": "code",
   "execution_count": 6,
   "id": "033f32fa",
   "metadata": {},
   "outputs": [
    {
     "name": "stdout",
     "output_type": "stream",
     "text": [
      "root\n",
      " |-- Physical_health_30bad: integer (nullable = true)\n",
      " |-- Mental_health_30bad: integer (nullable = true)\n",
      " |-- Sleep_hours: integer (nullable = true)\n",
      " |-- BMI: double (nullable = true)\n",
      " |-- Heart_diseaseIndex: double (nullable = false)\n",
      " |-- SexIndex: double (nullable = false)\n",
      " |-- General_healthIndex: double (nullable = false)\n",
      " |-- Medical_costIndex: double (nullable = false)\n",
      " |-- StrokeIndex: double (nullable = false)\n",
      " |-- AsthmaIndex: double (nullable = false)\n",
      " |-- Skin_cancerIndex: double (nullable = false)\n",
      " |-- Other_cancerIndex: double (nullable = false)\n",
      " |-- EducationIndex: double (nullable = false)\n",
      " |-- Diff_conIndex: double (nullable = false)\n",
      " |-- Diff_walkIndex: double (nullable = false)\n",
      " |-- Smoked100Index: double (nullable = false)\n",
      " |-- Good_healthIndex: double (nullable = false)\n",
      " |-- Physical_actIndex: double (nullable = false)\n",
      " |-- Age_groupIndex: double (nullable = false)\n",
      " |-- Income_groupIndex: double (nullable = false)\n",
      " |-- Smoking_statusIndex: double (nullable = false)\n",
      " |-- Heavy_drinkIndex: double (nullable = false)\n",
      "\n"
     ]
    }
   ],
   "source": [
    "df2.printSchema()"
   ]
  },
  {
   "cell_type": "code",
   "execution_count": 7,
   "id": "53a6ad37",
   "metadata": {},
   "outputs": [],
   "source": [
    "preds = [\"Sex\", \"General_health\", \"Medical_cost\", \"Stroke\", \"Asthma\",\"Skin_cancer\", \"Other_cancer\", \"Education\", \"Diff_con\", \"Diff_walk\", \"Smoked100\", \"Good_health\", \"Physical_act\",\"Age_group\", \"Income_group\", \"Smoking_status\",\"Heavy_drink\"]\n",
    "numeric = [\"Physical_health_30bad\", \"Mental_health_30bad\", \"Sleep_hours\", \"BMI\"]\n",
    "features = []\n",
    "for i in preds:\n",
    "    features.append(i+\"Index\")\n",
    "for j in numeric:\n",
    "    features.append(j)"
   ]
  },
  {
   "cell_type": "code",
   "execution_count": 8,
   "id": "2b4f210e",
   "metadata": {},
   "outputs": [],
   "source": [
    "va = VectorAssembler(inputCols = features, outputCol='features')\n",
    "va_df = va.transform(df2)\n",
    "va_df = va_df.select(['features', 'Heart_diseaseIndex'])"
   ]
  },
  {
   "cell_type": "code",
   "execution_count": 9,
   "id": "5472cb4c",
   "metadata": {},
   "outputs": [
    {
     "name": "stderr",
     "output_type": "stream",
     "text": [
      "22/10/13 18:09:42 WARN package: Truncated the string representation of a plan since it was too large. This behavior can be adjusted by setting 'spark.sql.debug.maxToStringFields'.\n"
     ]
    },
    {
     "name": "stdout",
     "output_type": "stream",
     "text": [
      "+--------------------+------------------+\n",
      "|            features|Heart_diseaseIndex|\n",
      "+--------------------+------------------+\n",
      "|[0.0,0.0,1.0,0.0,...|               0.0|\n",
      "|[1.0,3.0,0.0,0.0,...|               0.0|\n",
      "|(21,[1,5,6,7,8,12...|               0.0|\n",
      "|(21,[9,13,14,17,1...|               0.0|\n",
      "|(21,[1,4,5,11,13,...|               0.0|\n",
      "+--------------------+------------------+\n",
      "only showing top 5 rows\n",
      "\n"
     ]
    }
   ],
   "source": [
    "va_df.show(5)"
   ]
  },
  {
   "cell_type": "code",
   "execution_count": 10,
   "id": "deaef445",
   "metadata": {},
   "outputs": [],
   "source": [
    "(train, test) = va_df.randomSplit([0.8, 0.2])"
   ]
  },
  {
   "cell_type": "code",
   "execution_count": 11,
   "id": "57d4d2b6",
   "metadata": {},
   "outputs": [
    {
     "name": "stderr",
     "output_type": "stream",
     "text": [
      "                                                                                \r"
     ]
    }
   ],
   "source": [
    "dtc = DecisionTreeClassifier(featuresCol=\"features\", labelCol=\"Heart_diseaseIndex\")\n",
    "dtc = dtc.fit(train)"
   ]
  },
  {
   "cell_type": "code",
   "execution_count": 12,
   "id": "293c573c",
   "metadata": {},
   "outputs": [],
   "source": [
    "feature_importance = dtc.featureImportances"
   ]
  },
  {
   "cell_type": "code",
   "execution_count": 13,
   "id": "bcfbaee5",
   "metadata": {},
   "outputs": [],
   "source": [
    "df3 = df2.select([c for c in df2.columns if c in ['Heart_diseaseIndex','SexIndex','General_healthIndex','StrokeIndex', 'Diff_walkIndex', 'Good_healthIndex', 'Age_groupIndex', 'Sleep_hours', 'BMI']])\n",
    "features = ['SexIndex','General_healthIndex','StrokeIndex', 'Diff_walkIndex', 'Good_healthIndex', 'Age_groupIndex', 'Sleep_hours', 'BMI']\n",
    "va = VectorAssembler(inputCols = features, outputCol='features')\n",
    "va_df = va.transform(df3)\n",
    "va_df = va_df.select(['features', 'Heart_diseaseIndex'])\n",
    "(train, test) = va_df.randomSplit([0.8, 0.2])\n",
    "\n"
   ]
  },
  {
   "cell_type": "code",
   "execution_count": 15,
   "id": "bc40fe07",
   "metadata": {},
   "outputs": [
    {
     "name": "stderr",
     "output_type": "stream",
     "text": [
      "[Stage 106:>                                                        (0 + 2) / 2]\r"
     ]
    },
    {
     "name": "stdout",
     "output_type": "stream",
     "text": [
      "Prediction Accuracy:  0.8781700568231042\n"
     ]
    },
    {
     "name": "stderr",
     "output_type": "stream",
     "text": [
      "\r",
      "[Stage 106:============================>                            (1 + 1) / 2]\r",
      "\r",
      "                                                                                \r"
     ]
    }
   ],
   "source": [
    "# RandomForestClassifier\n",
    "\n",
    "from pyspark.ml.classification import RandomForestClassifier\n",
    "\n",
    "\n",
    "rfc = RandomForestClassifier(featuresCol=\"features\", labelCol=\"Heart_diseaseIndex\")\n",
    "rfc = rfc.fit(train)\n",
    "\n",
    "pred = rfc.transform(test)\n",
    "evaluator=MulticlassClassificationEvaluator(labelCol=\"Heart_diseaseIndex\",predictionCol=\"prediction\")\n",
    "acc = evaluator.evaluate(pred)\n",
    " \n",
    "print(\"Prediction Accuracy: \", acc)"
   ]
  },
  {
   "cell_type": "code",
   "execution_count": 16,
   "id": "2c9bf0b3",
   "metadata": {
    "scrolled": true
   },
   "outputs": [
    {
     "name": "stderr",
     "output_type": "stream",
     "text": [
      "22/10/13 18:11:05 WARN InstanceBuilder$NativeBLAS: Failed to load implementation from:dev.ludovic.netlib.blas.JNIBLAS\n",
      "22/10/13 18:11:05 WARN InstanceBuilder$NativeBLAS: Failed to load implementation from:dev.ludovic.netlib.blas.ForeignLinkerBLAS\n"
     ]
    },
    {
     "name": "stdout",
     "output_type": "stream",
     "text": [
      "Prediction Accuracy:  0.8841756893575832\n"
     ]
    },
    {
     "name": "stderr",
     "output_type": "stream",
     "text": [
      "\r",
      "[Stage 212:============================>                            (1 + 1) / 2]\r",
      "\r",
      "                                                                                \r"
     ]
    }
   ],
   "source": [
    "# GBTClassifier\n",
    "\n",
    "from pyspark.ml.classification import GBTClassifier\n",
    "\n",
    "gbc = GBTClassifier(featuresCol=\"features\", labelCol=\"Heart_diseaseIndex\", maxIter=10)\n",
    "gbc = gbc.fit(train)\n",
    "\n",
    "pred = dtc.transform(test)\n",
    "evaluator=MulticlassClassificationEvaluator(labelCol=\"Heart_diseaseIndex\",predictionCol=\"prediction\")\n",
    "acc = evaluator.evaluate(pred)\n",
    " \n",
    "print(\"Prediction Accuracy: \", acc)"
   ]
  },
  {
   "cell_type": "code",
   "execution_count": 17,
   "id": "31de9d2a",
   "metadata": {},
   "outputs": [
    {
     "name": "stderr",
     "output_type": "stream",
     "text": [
      "[Stage 228:>                                                        (0 + 2) / 2]\r"
     ]
    },
    {
     "name": "stdout",
     "output_type": "stream",
     "text": [
      "Prediction Accuracy:  0.884985734137341\n"
     ]
    },
    {
     "name": "stderr",
     "output_type": "stream",
     "text": [
      "\r",
      "[Stage 228:============================>                            (1 + 1) / 2]\r",
      "\r",
      "                                                                                \r"
     ]
    }
   ],
   "source": [
    "# decision tree classifier\n",
    "\n",
    "dtc = DecisionTreeClassifier(featuresCol=\"features\", labelCol=\"Heart_diseaseIndex\")\n",
    "dtc = dtc.fit(train)\n",
    "\n",
    "pred = dtc.transform(test)\n",
    "evaluator=MulticlassClassificationEvaluator(labelCol=\"Heart_diseaseIndex\",predictionCol=\"prediction\")\n",
    "acc = evaluator.evaluate(pred)\n",
    " \n",
    "print(\"Prediction Accuracy: \", acc)"
   ]
  },
  {
   "cell_type": "code",
   "execution_count": 18,
   "id": "98106af2",
   "metadata": {},
   "outputs": [
    {
     "ename": "ModuleNotFoundError",
     "evalue": "No module named 'sklearn'",
     "output_type": "error",
     "traceback": [
      "\u001b[0;31m---------------------------------------------------------------------------\u001b[0m",
      "\u001b[0;31mModuleNotFoundError\u001b[0m                       Traceback (most recent call last)",
      "Input \u001b[0;32mIn [18]\u001b[0m, in \u001b[0;36m<cell line: 1>\u001b[0;34m()\u001b[0m\n\u001b[0;32m----> 1\u001b[0m \u001b[38;5;28;01mfrom\u001b[39;00m \u001b[38;5;21;01msklearn\u001b[39;00m\u001b[38;5;21;01m.\u001b[39;00m\u001b[38;5;21;01mmetrics\u001b[39;00m \u001b[38;5;28;01mimport\u001b[39;00m confusion_matrix\n\u001b[1;32m      3\u001b[0m y_true \u001b[38;5;241m=\u001b[39m pred\u001b[38;5;241m.\u001b[39mselect(\u001b[38;5;124m\"\u001b[39m\u001b[38;5;124mHeart_diseaseIndex\u001b[39m\u001b[38;5;124m\"\u001b[39m)\n\u001b[1;32m      4\u001b[0m y_true \u001b[38;5;241m=\u001b[39m y_true\u001b[38;5;241m.\u001b[39mtoPandas()\n",
      "\u001b[0;31mModuleNotFoundError\u001b[0m: No module named 'sklearn'"
     ]
    }
   ],
   "source": [
    "from sklearn.metrics import confusion_matrix\n",
    "\n",
    "y_true = pred.select(\"Heart_diseaseIndex\")\n",
    "y_true = y_true.toPandas()\n",
    "\n",
    "y_pred = predictions.select(\"prediction\")\n",
    "y_pred = y_pred.toPandas()\n",
    "\n",
    "cnf_matrix = confusion_matrix(y_true, y_pred,labels=['yes', 'no'])\n",
    "cnf_matrix"
   ]
  },
  {
   "cell_type": "code",
   "execution_count": null,
   "id": "27fb2843",
   "metadata": {},
   "outputs": [],
   "source": []
  }
 ],
 "metadata": {
  "kernelspec": {
   "display_name": "Python 3 (ipykernel)",
   "language": "python",
   "name": "python3"
  },
  "language_info": {
   "codemirror_mode": {
    "name": "ipython",
    "version": 3
   },
   "file_extension": ".py",
   "mimetype": "text/x-python",
   "name": "python",
   "nbconvert_exporter": "python",
   "pygments_lexer": "ipython3",
   "version": "3.10.4"
  }
 },
 "nbformat": 4,
 "nbformat_minor": 5
}
